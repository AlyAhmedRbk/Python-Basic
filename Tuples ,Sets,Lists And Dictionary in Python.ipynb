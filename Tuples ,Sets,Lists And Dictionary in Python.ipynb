{
 "cells": [
  {
   "cell_type": "code",
   "execution_count": 23,
   "id": "fcac2634",
   "metadata": {},
   "outputs": [
    {
     "name": "stdout",
     "output_type": "stream",
     "text": [
      "{'key1': 'Hello', 'key2': 123}\n",
      "\n",
      "Hello\n",
      "\n",
      "123\n",
      "\n",
      "Hello\n",
      "123\n"
     ]
    }
   ],
   "source": [
    "#Dictioneries In Python :\n",
    "dic = {'key1':'Hello','key2':123}\n",
    "\n",
    "print(dic)\n",
    "\n",
    "print()\n",
    "print(dic['key1'])\n",
    "\n",
    "print()\n",
    "print(dic['key2'])\n",
    "\n",
    "#using For Loop  :\n",
    "print()\n",
    "for i in dic.values():\n",
    "    print(i)"
   ]
  },
  {
   "cell_type": "code",
   "execution_count": 31,
   "id": "9e709502",
   "metadata": {},
   "outputs": [
    {
     "name": "stdout",
     "output_type": "stream",
     "text": [
      "Even Numbers :\n",
      "[0, 2, 4, 6, 8, 10, 12, 14, 16, 18, 20, 22, 24, 26, 28, 30, 32, 34, 36, 38, 40, 42, 44, 46, 48, 50]\n",
      "\n",
      "Odd Numbers  :\n",
      "[1, 3, 5, 7, 9, 11, 13, 15, 17, 19, 21, 23, 25, 27, 29, 31, 33, 35, 37, 39, 41, 43, 45, 47, 49]\n",
      "\n",
      "New Values of Even List  :\n",
      "['Hello World', 'Python', 4, 6, 8, 10, 12, 14, 16, 18, 20, 22, 24, 26, 28, 30, 32, 34, 36, 38, 40, 42, 44, 46, 48, 50]\n"
     ]
    }
   ],
   "source": [
    "#Lists In Python  :\n",
    "even = []\n",
    "odd = []\n",
    "\n",
    "for i in range (51):\n",
    "\n",
    "    if i % 2 == 0:\n",
    "        even.append(i)\n",
    "    else:\n",
    "        odd.append(i)\n",
    "print('Even Numbers :')\n",
    "print(even)\n",
    "print()\n",
    "print('Odd Numbers  :')\n",
    "print(odd)\n",
    "\n",
    "\n",
    "even[0] = 'Hello World'\n",
    "even[1] = 'Python'\n",
    "\n",
    "print()\n",
    "print('New Values of Even List  :')\n",
    "print(even)"
   ]
  },
  {
   "cell_type": "code",
   "execution_count": 20,
   "id": "ea5e24b7",
   "metadata": {},
   "outputs": [
    {
     "name": "stdout",
     "output_type": "stream",
     "text": [
      "{'Inner Key': [1, 2, 3, 4, 5]}\n",
      "\n",
      "[1, 2, 3, 4, 5]\n"
     ]
    }
   ],
   "source": [
    "#Nested Dictionary  :\n",
    "K = {'K1':{'Inner Key':[1,2,3,4,5]}}\n",
    "print(K['K1'])\n",
    "\n",
    "print()\n",
    "print(K['K1']['Inner Key'])"
   ]
  },
  {
   "cell_type": "code",
   "execution_count": 32,
   "id": "8b9139e7",
   "metadata": {},
   "outputs": [
    {
     "name": "stdout",
     "output_type": "stream",
     "text": [
      "Tuple Values  :\n",
      "(1, 2, 3, 4)\n",
      "\n",
      "Tuple Value at index  :\n",
      "1\n",
      "\n",
      "Using For Loop  :\n",
      "1\n",
      "2\n",
      "3\n",
      "4\n"
     ]
    }
   ],
   "source": [
    "#Tuples in Python\n",
    "T = (1,2,3,4)\n",
    "print('Tuple Values  :')\n",
    "print(T)\n",
    "\n",
    "print()\n",
    "print('Tuple Value at index  :')\n",
    "print(T[0])\n",
    "\n",
    "#Using For Loop  :\n",
    "print()\n",
    "print('Using For Loop  :')\n",
    "for i in T:\n",
    "    print(i)\n",
    "\n",
    "#T[0] = 'New' 'tuple' object does not support item assignment\n",
    "#T[0] = 'New' Will Provide Error"
   ]
  },
  {
   "cell_type": "code",
   "execution_count": 45,
   "id": "a1149bb5",
   "metadata": {},
   "outputs": [
    {
     "name": "stdout",
     "output_type": "stream",
     "text": [
      "Dictionary  :\n",
      "{'K1': 'Python', 'K2': 'Java'}\n",
      "\n",
      "Values Of K1 And K2  : \n",
      "Python\n",
      "Java\n",
      "\n",
      "Using For Loop  :\n",
      "Python\n",
      "Java\n",
      "\n",
      "{'K1': {'Inner Values': [1, 2, 3]}}\n",
      "\n",
      "{'Inner Values': [1, 2, 3]}\n",
      "\n",
      "[1, 2, 3]\n"
     ]
    }
   ],
   "source": [
    "#Dictionaries in Python  :\n",
    "dic = {'K1':'Python','K2':'Java'}\n",
    "print('Dictionary  :')\n",
    "print(dic)\n",
    "\n",
    "print()\n",
    "print('Values Of K1 And K2  : ')\n",
    "print(dic['K1'])\n",
    "print(dic['K2'])\n",
    "\n",
    "print()\n",
    "print('Using For Loop  :')\n",
    "for i in dic.values():\n",
    "    print(i)\n",
    "    \n",
    "#Nested Dictionary in Python  :\n",
    "\n",
    "dic2 = {'K1':{'Inner Values':[1,2,3]}}\n",
    "\n",
    "print()\n",
    "print(dic2)\n",
    "\n",
    "print()\n",
    "print(dic2['K1'])\n",
    "\n",
    "print()\n",
    "print(dic2['K1']['Inner Values'])\n",
    "\n"
   ]
  },
  {
   "cell_type": "code",
   "execution_count": 61,
   "id": "9c3a552b",
   "metadata": {},
   "outputs": [
    {
     "name": "stdout",
     "output_type": "stream",
     "text": [
      "{1, 2, 3, 4, 23}\n",
      "{1, 2, 3, 4, 23, 9}\n",
      "{1, 2, 3, 4, 23, 9, 10}\n"
     ]
    },
    {
     "data": {
      "text/plain": [
       "{1, 2, 4, 5, 6, 7}"
      ]
     },
     "execution_count": 61,
     "metadata": {},
     "output_type": "execute_result"
    }
   ],
   "source": [
    "#Sets in python  :\n",
    "\n",
    "S = {1,2,23,4,3,3,2}\n",
    "print(S)\n",
    "S.add(9)\n",
    "print(S)\n",
    "S.add(10)\n",
    "print(S)\n",
    "\n",
    "set ([1,1,1,2,4,5,6,7,7,7])\n"
   ]
  },
  {
   "cell_type": "code",
   "execution_count": null,
   "id": "2feadcf7",
   "metadata": {},
   "outputs": [],
   "source": []
  }
 ],
 "metadata": {
  "kernelspec": {
   "display_name": "Python 3 (ipykernel)",
   "language": "python",
   "name": "python3"
  },
  "language_info": {
   "codemirror_mode": {
    "name": "ipython",
    "version": 3
   },
   "file_extension": ".py",
   "mimetype": "text/x-python",
   "name": "python",
   "nbconvert_exporter": "python",
   "pygments_lexer": "ipython3",
   "version": "3.9.12"
  }
 },
 "nbformat": 4,
 "nbformat_minor": 5
}
